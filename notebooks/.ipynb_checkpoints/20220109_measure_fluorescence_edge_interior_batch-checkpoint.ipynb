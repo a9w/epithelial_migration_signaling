{
 "cells": [
  {
   "cell_type": "markdown",
   "metadata": {},
   "source": [
    "# Measure cell edge and cell interior fluorescence (batch)\n",
    "* Author: Audrey Williams\n",
    "* Created: 2022-01-09\n",
    "* Status: Complete\n"
   ]
  },
  {
   "cell_type": "code",
   "execution_count": 1,
   "metadata": {},
   "outputs": [],
   "source": [
    "import matplotlib.pyplot as plt\n",
    "%matplotlib inline\n",
    "import numpy as np\n",
    "import pandas as pd\n",
    "from imageio import imread, volread\n",
    "import sys\n",
    "sys.path.append('/Users/Audrey/git/egg_chamber/code/')\n",
    "from imtools.segment import (cell_edges_mask,\n",
    "                            cell_interiors_mask,\n",
    "                            select_in_field)\n",
    "from imtools.utils import select_files"
   ]
  },
  {
   "cell_type": "markdown",
   "metadata": {},
   "source": [
    "## Set data and output directories, parameters"
   ]
  },
  {
   "cell_type": "code",
   "execution_count": 2,
   "metadata": {},
   "outputs": [],
   "source": [
    "# Set locations of images (intensities and segmented), output\n",
    "DATA_DIR = ('/Volumes/SHB_data_Audrey/NAS_Audrey/Data_Analysis/' + \n",
    "           'phalloidin_Dlg_fat2_WAVE_conditions_panel/' + \n",
    "           'images_TJ_TJfat2_TJabiRNAi/') \n",
    "OUT_DIR = ('/Volumes/SHB_data_Audrey/NAS_Audrey/Data_Analysis/' + \n",
    "           'phalloidin_Dlg_fat2_WAVE_conditions_panel/') \n",
    "\n",
    "# Set amount of edge dilation\n",
    "EDGE_DIL_FACTOR = 5\n",
    "\n",
    "# Set total channels in intensities image file, \n",
    "# index of channel to measure,\n",
    "# name of measured channel (for output naming)\n",
    "CHANNELS_TOTAL = 2\n",
    "INTENSITIES_CHANNEL_IND = 1\n",
    "INTENSITIES_CHANNEL_NAME = \"phalloidin\""
   ]
  },
  {
   "cell_type": "markdown",
   "metadata": {},
   "source": [
    "## Get paths to intensities and segmented images"
   ]
  },
  {
   "cell_type": "code",
   "execution_count": 3,
   "metadata": {
    "scrolled": true
   },
   "outputs": [],
   "source": [
    "file_info = select_files(DATA_DIR, ['.tif','_seg_corr.tif'])\n"
   ]
  },
  {
   "cell_type": "markdown",
   "metadata": {},
   "source": [
    "## Import images, make masks, measure"
   ]
  },
  {
   "cell_type": "code",
   "execution_count": 4,
   "metadata": {
    "scrolled": false
   },
   "outputs": [
    {
     "name": "stdout",
     "output_type": "stream",
     "text": [
      "0\n",
      "1\n",
      "2\n",
      "3\n",
      "4\n",
      "5\n",
      "6\n",
      "7\n",
      "8\n",
      "9\n",
      "10\n",
      "11\n",
      "12\n",
      "13\n",
      "14\n",
      "15\n",
      "16\n",
      "17\n",
      "18\n",
      "19\n",
      "20\n",
      "21\n",
      "22\n",
      "23\n",
      "24\n",
      "25\n",
      "26\n",
      "27\n",
      "28\n",
      "29\n",
      "30\n",
      "31\n",
      "32\n",
      "33\n",
      "34\n"
     ]
    }
   ],
   "source": [
    "condition = []\n",
    "sample_nums = []\n",
    "mean_tissue_ls = []\n",
    "mean_edges_ls = []\n",
    "mean_interiors_ls = []\n",
    "mean_edges_minus_interiors_ls = []\n",
    "\n",
    "for i in range(len(file_info)):\n",
    "    im_intensities_path = file_info[i]['.tif']\n",
    "    im_lab_path = file_info[i]['_seg_corr.tif']\n",
    "    \n",
    "    if CHANNELS_TOTAL > 1:\n",
    "        im_intensities_raw = volread(im_intensities_path)\n",
    "        im_intensities = im_intensities_raw[INTENSITIES_CHANNEL_IND]\n",
    "    else: \n",
    "        im_intensities = imread(im_intensities_path)\n",
    "    im_lab = imread(im_lab_path)\n",
    "    \n",
    "    # Get condition and sample number\n",
    "    basename = file_info[i]['basename']\n",
    "    sample_num = basename.split('_')[-1]\n",
    "    sample_nums.append(sample_num)\n",
    "    condition.append(basename.split('_' + sample_num)[0])\n",
    "    \n",
    "    # Track progress\n",
    "    print(f'Analyzing image {str(i)}, {basename}')\n",
    "    \n",
    "    # Make the masks\n",
    "    tissue_mask = im_lab > 0\n",
    "    tissue_mask = select_in_field(im_lab, tissue_mask)\n",
    "    edges_mask = cell_edges_mask(im_lab, EDGE_DIL_FACTOR)\n",
    "    interiors_mask = cell_interiors_mask(im_lab, EDGE_DIL_FACTOR)\n",
    "    \n",
    "    # Measure mean intensity within masks, add to lists\n",
    "    mean_tissue_ls.append(np.mean(im_intensities[tissue_mask]))\n",
    "    mean_edges = np.mean(im_intensities[edges_mask])\n",
    "    mean_interiors = np.mean(im_intensities[interiors_mask])\n",
    "    mean_edges_ls.append(mean_edges)\n",
    "    mean_interiors_ls.append(mean_interiors)\n",
    "    mean_edges_minus_interiors_ls.append(mean_edges - mean_interiors)\n"
   ]
  },
  {
   "cell_type": "markdown",
   "metadata": {},
   "source": [
    "## Store means in a dataframe, export as CSV"
   ]
  },
  {
   "cell_type": "code",
   "execution_count": 5,
   "metadata": {},
   "outputs": [
    {
     "data": {
      "text/html": [
       "<div>\n",
       "<style scoped>\n",
       "    .dataframe tbody tr th:only-of-type {\n",
       "        vertical-align: middle;\n",
       "    }\n",
       "\n",
       "    .dataframe tbody tr th {\n",
       "        vertical-align: top;\n",
       "    }\n",
       "\n",
       "    .dataframe thead th {\n",
       "        text-align: right;\n",
       "    }\n",
       "</style>\n",
       "<table border=\"1\" class=\"dataframe\">\n",
       "  <thead>\n",
       "    <tr style=\"text-align: right;\">\n",
       "      <th></th>\n",
       "      <th>condition</th>\n",
       "      <th>sample_num</th>\n",
       "      <th>mean_tissue</th>\n",
       "      <th>mean_edges</th>\n",
       "      <th>mean_interiors</th>\n",
       "      <th>mean_edges_minus_interiors</th>\n",
       "    </tr>\n",
       "  </thead>\n",
       "  <tbody>\n",
       "    <tr>\n",
       "      <th>0</th>\n",
       "      <td>TJ</td>\n",
       "      <td>01</td>\n",
       "      <td>10.815266</td>\n",
       "      <td>19.214579</td>\n",
       "      <td>7.233662</td>\n",
       "      <td>11.980917</td>\n",
       "    </tr>\n",
       "    <tr>\n",
       "      <th>1</th>\n",
       "      <td>TJ</td>\n",
       "      <td>02</td>\n",
       "      <td>9.403400</td>\n",
       "      <td>17.506806</td>\n",
       "      <td>6.059200</td>\n",
       "      <td>11.447606</td>\n",
       "    </tr>\n",
       "    <tr>\n",
       "      <th>2</th>\n",
       "      <td>TJ</td>\n",
       "      <td>03</td>\n",
       "      <td>15.981570</td>\n",
       "      <td>28.716995</td>\n",
       "      <td>10.494062</td>\n",
       "      <td>18.222934</td>\n",
       "    </tr>\n",
       "    <tr>\n",
       "      <th>3</th>\n",
       "      <td>TJ</td>\n",
       "      <td>04</td>\n",
       "      <td>10.643110</td>\n",
       "      <td>19.719643</td>\n",
       "      <td>7.104412</td>\n",
       "      <td>12.615232</td>\n",
       "    </tr>\n",
       "    <tr>\n",
       "      <th>4</th>\n",
       "      <td>TJ</td>\n",
       "      <td>05</td>\n",
       "      <td>12.063054</td>\n",
       "      <td>20.665231</td>\n",
       "      <td>7.180734</td>\n",
       "      <td>13.484497</td>\n",
       "    </tr>\n",
       "  </tbody>\n",
       "</table>\n",
       "</div>"
      ],
      "text/plain": [
       "  condition sample_num  mean_tissue  mean_edges  mean_interiors  \\\n",
       "0        TJ         01    10.815266   19.214579        7.233662   \n",
       "1        TJ         02     9.403400   17.506806        6.059200   \n",
       "2        TJ         03    15.981570   28.716995       10.494062   \n",
       "3        TJ         04    10.643110   19.719643        7.104412   \n",
       "4        TJ         05    12.063054   20.665231        7.180734   \n",
       "\n",
       "   mean_edges_minus_interiors  \n",
       "0                   11.980917  \n",
       "1                   11.447606  \n",
       "2                   18.222934  \n",
       "3                   12.615232  \n",
       "4                   13.484497  "
      ]
     },
     "execution_count": 5,
     "metadata": {},
     "output_type": "execute_result"
    }
   ],
   "source": [
    "col_names = ['condition', 'sample_num', 'mean_tissue', 'mean_edges',\n",
    "             'mean_interiors', 'mean_edges_minus_interiors']\n",
    "df = pd.DataFrame(list(zip(condition, sample_nums, mean_tissue_ls, \n",
    "                           mean_edges_ls, mean_interiors_ls, \n",
    "                           mean_edges_minus_interiors_ls)),\n",
    "                 columns = col_names)\n",
    "\n",
    "df_sorted = df.sort_values(['condition', 'sample_num'])\n",
    "df_sorted.reset_index(inplace=True, drop=True)\n",
    "out_path = (OUT_DIR + INTENSITIES_CHANNEL_NAME + \n",
    "            '_mean_intensity_edge_interior.csv')\n",
    "df_sorted.to_csv(path_or_buf = out_path)\n",
    "\n",
    "df_sorted.head()"
   ]
  },
  {
   "cell_type": "code",
   "execution_count": null,
   "metadata": {},
   "outputs": [],
   "source": []
  }
 ],
 "metadata": {
  "kernelspec": {
   "display_name": "Python 3 (ipykernel)",
   "language": "python",
   "name": "python3"
  },
  "language_info": {
   "codemirror_mode": {
    "name": "ipython",
    "version": 3
   },
   "file_extension": ".py",
   "mimetype": "text/x-python",
   "name": "python",
   "nbconvert_exporter": "python",
   "pygments_lexer": "ipython3",
   "version": "3.10.4"
  }
 },
 "nbformat": 4,
 "nbformat_minor": 2
}
