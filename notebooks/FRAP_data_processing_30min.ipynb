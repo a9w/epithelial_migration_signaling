{
 "cells": [
  {
   "cell_type": "markdown",
   "metadata": {},
   "source": [
    "# Process FRAP data, output summary - 8 min datasets"
   ]
  },
  {
   "cell_type": "code",
   "execution_count": 4,
   "metadata": {},
   "outputs": [],
   "source": [
    "import numpy as np\n",
    "import pandas as pd\n",
    "import os \n",
    "import math\n",
    "import matplotlib.pyplot as plt\n",
    "%matplotlib inline\n"
   ]
  },
  {
   "cell_type": "markdown",
   "metadata": {},
   "source": [
    "## Set data and output locations, dataset info"
   ]
  },
  {
   "cell_type": "code",
   "execution_count": 5,
   "metadata": {},
   "outputs": [],
   "source": [
    "data_dir = \"../data/FRAP/30min_30secframes/\"\n",
    "out_dir = \"../data/FRAP/\"\n",
    "conditions = [\"Fat2_30min\"]\n",
    "time_col = \"minutes\"\n",
    "out_name = \"FRAP_30min\"\n",
    "\n",
    "out_path = out_dir + out_name + \".csv\"\n",
    "out_path_summary = out_dir + out_name + \"_summary.csv\""
   ]
  },
  {
   "cell_type": "markdown",
   "metadata": {},
   "source": [
    "## Make df of all datapoints "
   ]
  },
  {
   "cell_type": "code",
   "execution_count": 6,
   "metadata": {},
   "outputs": [],
   "source": [
    "# Function to currect for bleaching\n",
    "def FRAP_rescale(x, prebleach, bleach):\n",
    "    x_rescaled = (x - bleach) / (prebleach - bleach)\n",
    "    return(x_rescaled)\n",
    "\n",
    "# Function to construct df for a single region (bleach or control)\n",
    "def make_FRAP_sample_df(file_path, time_col):\n",
    "    # Import the csv\n",
    "    df_sample = pd.read_csv(file_path)\n",
    "\n",
    "    # Parse the file name into dataset info\n",
    "    file = file_path.split(\"/\")[-1]\n",
    "    name = file.split('.')[0]\n",
    "    roi = name.split('roi')[-1]\n",
    "    name2 = name.split('_roi' + roi)[0]\n",
    "    sample = name2.split('sample')[-1]\n",
    "    name3 = name2.split('_sample' + sample)[0]\n",
    "        \n",
    "    if \"bleach\" in name:\n",
    "        region_type = \"bleached\"\n",
    "    elif \"control\" in name: \n",
    "        region_type = \"control\"\n",
    "    else: \n",
    "        print(\"Name doesn't include bleach/nonbleach info\")\n",
    "    condition = name3.split(\"_\" + name3.split(\"_\")[-1])[0]\n",
    "\n",
    "    # Add info columns to df, reorder columns\n",
    "    if time_col == \"seconds\":\n",
    "        df_sample = df_sample.rename(columns={\"seconds\": \"t_sec\"})\n",
    "        df_sample[\"t_min\"] = df_sample[\"t_sec\"] / 60\n",
    "    elif time_col == \"minutes\":\n",
    "        df_sample = df_sample.rename(columns={\"minutes\": \"t_min\"})\n",
    "        df_sample[\"t_sec\"] = df_sample[\"t_min\"] * 60\n",
    "\n",
    "    df_sample[\"condition\"] = condition\n",
    "    df_sample[\"sample\"] = int(sample)\n",
    "    df_sample[\"roi\"] = int(roi)\n",
    "    df_sample[\"region_type\"] = region_type\n",
    "    df_sample[\"t_min\"] = df_sample[\"t_sec\"] / 60\n",
    "    df_sample[\"t_step\"] = df_sample.index\n",
    "    df_sample = df_sample[['condition', 'sample', 'region_type', 'roi', 't_step', 't_sec', 't_min', 'mean_intensity']]\n",
    "    \n",
    "    return df_sample"
   ]
  },
  {
   "cell_type": "code",
   "execution_count": 7,
   "metadata": {
    "scrolled": false
   },
   "outputs": [],
   "source": [
    "# Make df with all region data concatenated\n",
    "df_ls = []\n",
    "for i, cond in enumerate(conditions):\n",
    "    df_cond_ls = []\n",
    "    cond_dir = os.path.join(data_dir, cond)\n",
    "    file_names = sorted(os.listdir(cond_dir))\n",
    "    file_names = [name for name in file_names if '.csv' in name]\n",
    "\n",
    "    # Make a dataframe for each sample in the condition folder, append to list\n",
    "    for i, file in enumerate(file_names):\n",
    "        file_path = os.path.join(cond_dir, file)\n",
    "        df_sample = make_FRAP_sample_df(file_path, time_col)\n",
    "        df_cond_ls.append(df_sample)\n",
    "    \n",
    "    # Concatenate sample dfs into a condition df\n",
    "    df_cond = pd.concat(df_cond_ls)\n",
    "\n",
    "    # Make sure there are the same number of bleach and control samples\n",
    "    if df_cond[\"region_type\"].value_counts()[0] != df_cond[\"region_type\"].value_counts()[1]:\n",
    "        print(cond + \"has different numbers of bleached and control entries\")\n",
    "\n",
    "    # Add to list of condition dfs\n",
    "    df_ls.append(df_cond)\n",
    "    \n",
    "# Make all data df\n",
    "df = pd.concat(df_ls)\n"
   ]
  },
  {
   "cell_type": "markdown",
   "metadata": {},
   "source": [
    "## Rescale individual samples for later stdev calculation"
   ]
  },
  {
   "cell_type": "code",
   "execution_count": 8,
   "metadata": {},
   "outputs": [],
   "source": [
    "def rescale_by_roi(df_roi):\n",
    "    df_roi = df_sample[df_sample[\"roi\"] == roi]\n",
    "    prebleach = df_roi.iloc[1][\"mean_intensity\"]\n",
    "    bleach = df_roi.iloc[2][\"mean_intensity\"]\n",
    "    roi_rescaled = [FRAP_rescale(x, prebleach, bleach) for x in df_roi[\"mean_intensity\"]]\n",
    "    return(roi_rescaled)\n"
   ]
  },
  {
   "cell_type": "code",
   "execution_count": 9,
   "metadata": {
    "scrolled": false
   },
   "outputs": [],
   "source": [
    "# Calculate std dev from rescaled versions of individual samples\n",
    "df_rescaled_by_roi_ls = []\n",
    "\n",
    "for condition in conditions:\n",
    "    df_condition = df[df[\"condition\"] == condition]\n",
    "    df_bleached = df_condition[df_condition[\"region_type\"] == \"bleached\"]\n",
    "\n",
    "    samples = df_bleached[\"sample\"].unique()\n",
    "    for sample in samples:\n",
    "        df_sample = df_bleached[df_bleached[\"sample\"] == sample]\n",
    "                \n",
    "        rois = df_sample[\"roi\"].unique()\n",
    "        for roi in rois:\n",
    "            df_roi = df_sample[df_sample[\"roi\"] == roi]\n",
    "            roi_rescaled = rescale_by_roi(df_roi)\n",
    "            t_steps = df_roi[\"t_step\"]\n",
    "            t_sec = df_roi[\"t_sec\"]\n",
    "            t_min = df_roi[\"t_min\"]\n",
    "\n",
    "            df_roi_rescaled = pd.DataFrame(list(zip(roi_rescaled)),\n",
    "                                              columns = ['mean_intensity_rescaled'])\n",
    "            df_roi_rescaled[\"condition\"] = condition\n",
    "            df_roi_rescaled[\"sample\"] = sample\n",
    "            df_roi_rescaled[\"roi\"] = roi\n",
    "            df_roi_rescaled[\"t_step\"] = df_roi[\"t_step\"]\n",
    "            df_roi_rescaled[\"t_sec\"] = df_roi[\"t_sec\"]\n",
    "            df_roi_rescaled[\"t_min\"] = df_roi[\"t_min\"]\n",
    "\n",
    "\n",
    "            df_rescaled_by_roi_ls.append(df_roi_rescaled)\n",
    "\n",
    "\n",
    "df_rescaled_by_roi = pd.concat(df_rescaled_by_roi_ls)\n",
    "df_rescaled_by_roi = df_rescaled_by_roi[['condition', 'sample', 'roi', 't_step',\n",
    "                                         't_sec', 't_min', 'mean_intensity_rescaled']]\n"
   ]
  },
  {
   "cell_type": "markdown",
   "metadata": {},
   "source": [
    "## Make summary df (entries per condition per timepoint)"
   ]
  },
  {
   "cell_type": "code",
   "execution_count": 10,
   "metadata": {
    "scrolled": false
   },
   "outputs": [],
   "source": [
    "df_summary_ls = []\n",
    "# Find means per condition per timestep\n",
    "for condition in conditions:\n",
    "    # Subset the data\n",
    "    df_condition = df[df[\"condition\"]==condition]\n",
    "    df_bleached = df_condition[df_condition[\"region_type\"]==\"bleached\"]\n",
    "    df_control = df_condition[df_condition[\"region_type\"]==\"control\"]\n",
    "\n",
    "    # Find mean bleached and control region values per timestep\n",
    "    frames = df_control[\"t_step\"].max() + 1\n",
    "    bleach_means = []\n",
    "    control_means = []\n",
    "    t_sec_ls = []\n",
    "    stds = []\n",
    "    \n",
    "    for t in range(frames):\n",
    "        df_bleached_frame = df_bleached[df_bleached[\"t_step\"]==t]\n",
    "        df_control_frame = df_control[df_control[\"t_step\"]==t]\n",
    "        bleach_means.append(df_bleached_frame[\"mean_intensity\"].mean())\n",
    "        control_means.append(df_control_frame[\"mean_intensity\"].mean())\n",
    "        t_sec_ls.append(df_bleached_frame.iloc[0][\"t_sec\"])\n",
    "        \n",
    "        # Calculate stdev from intensities rescaled by roi\n",
    "        df_rescaled_cond = df_rescaled_by_roi[df_rescaled_by_roi[\"condition\"]==condition]\n",
    "        df_rescaled_frame = df_rescaled_cond[df_rescaled_cond[\"t_step\"]==t]\n",
    "        std = df_rescaled_frame[\"mean_intensity_rescaled\"].std()\n",
    "        stds.append(std)\n",
    "\n",
    "    # Correct bleach intensities with control ones\n",
    "    means_corr = [bleach / control for bleach, control in zip(bleach_means, control_means)]\n",
    "    \n",
    "    # Rescale so that prebleach is 1, immediately post-bleach is 0\n",
    "    prebleach_intensity = means_corr[1]\n",
    "    bleach_intensity = means_corr[2]\n",
    "    means_rescaled = [FRAP_rescale(x, prebleach_intensity, bleach_intensity) for x in means_corr]\n",
    "    \n",
    "    # Make summary df\n",
    "    columns = ['t_sec','mean_bleached', 'mean_control', 'mean_corr', 'mean_rescaled', 'std_rescaled']\n",
    "    df_condition_summary = pd.DataFrame(list(zip(t_sec_ls, bleach_means, control_means,\n",
    "                                                 means_corr, means_rescaled, stds)),\n",
    "                                        columns = columns)\n",
    "    df_condition_summary[\"condition\"] = condition\n",
    "    df_condition_summary[\"t_step\"] = df_condition_summary.index\n",
    "    df_condition_summary[\"t_min\"] = df_condition_summary[\"t_sec\"] / 60\n",
    "    df_condition_summary = df_condition_summary[['condition', 't_step', 't_sec', 't_min',\n",
    "                                                 'mean_bleached', 'mean_control', 'mean_corr',\n",
    "                                                 'mean_rescaled', 'std_rescaled']]\n",
    "    df_summary_ls.append(df_condition_summary)\n",
    "df_summary = pd.concat(df_summary_ls)\n"
   ]
  },
  {
   "cell_type": "markdown",
   "metadata": {},
   "source": [
    "## Plot to check"
   ]
  },
  {
   "cell_type": "code",
   "execution_count": 11,
   "metadata": {
    "scrolled": false
   },
   "outputs": [
    {
     "data": {
      "text/plain": [
       "<matplotlib.legend.Legend at 0x7fc974bf7bb0>"
      ]
     },
     "execution_count": 11,
     "metadata": {},
     "output_type": "execute_result"
    },
    {
     "data": {
      "image/png": "[encoded data removed]",
      "text/plain": [
       "<Figure size 432x288 with 1 Axes>"
      ]
     },
     "metadata": {
      "needs_background": "light"
     },
     "output_type": "display_data"
    }
   ],
   "source": [
    "df_Fat2 = df_summary[df_summary[\"condition\"] == \"Fat2_30min\"]\n",
    "\n",
    "fig, ax = plt.subplots()\n",
    "\n",
    "ax.plot(df_Fat2[\"t_min\"], df_Fat2[\"mean_rescaled\"], label=\"Fat2\")\n",
    "ax.fill_between(df_Fat2[\"t_min\"], df_Fat2[\"mean_rescaled\"] - df_Fat2[\"std_rescaled\"],\n",
    "                df_Fat2[\"mean_rescaled\"] + df_Fat2[\"std_rescaled\"], alpha=0.4)\n",
    "\n",
    "ax.legend()"
   ]
  },
  {
   "cell_type": "markdown",
   "metadata": {},
   "source": [
    "## Output complete data and summary dataframes as csv"
   ]
  },
  {
   "cell_type": "code",
   "execution_count": 12,
   "metadata": {},
   "outputs": [],
   "source": [
    "df.to_csv(path_or_buf = os.path.join(out_dir, f'{out_name}.csv'))\n",
    "df_summary.to_csv(path_or_buf = os.path.join(out_dir, f'{out_name}_summary.csv'))\n"
   ]
  },
  {
   "cell_type": "code",
   "execution_count": null,
   "metadata": {},
   "outputs": [],
   "source": []
  }
 ],
 "metadata": {
  "kernelspec": {
   "display_name": "Python 3",
   "language": "python",
   "name": "python3"
  },
  "language_info": {
   "codemirror_mode": {
    "name": "ipython",
    "version": 3
   },
   "file_extension": ".py",
   "mimetype": "text/x-python",
   "name": "python",
   "nbconvert_exporter": "python",
   "pygments_lexer": "ipython3",
   "version": "3.8.5"
  }
 },
 "nbformat": 4,
 "nbformat_minor": 4
}
